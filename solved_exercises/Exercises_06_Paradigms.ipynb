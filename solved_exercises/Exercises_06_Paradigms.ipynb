{
  "nbformat": 4,
  "nbformat_minor": 0,
  "metadata": {
    "kernelspec": {
      "display_name": "Python 3",
      "language": "python",
      "name": "python3"
    },
    "language_info": {
      "codemirror_mode": {
        "name": "ipython",
        "version": 3
      },
      "file_extension": ".py",
      "mimetype": "text/x-python",
      "name": "python",
      "nbconvert_exporter": "python",
      "pygments_lexer": "ipython3",
      "version": "3.8.5"
    },
    "colab": {
      "name": "Exercises 06: Paradigms",
      "provenance": [],
      "collapsed_sections": []
    }
  },
  "cells": [
    {
      "cell_type": "markdown",
      "metadata": {
        "id": "GnuT6TcZBXPI"
      },
      "source": [
        "# Load packages"
      ]
    },
    {
      "cell_type": "code",
      "metadata": {
        "id": "T8KkxWr0BXPV"
      },
      "source": [
        "import matplotlib\n",
        "import matplotlib.pyplot as plt\n",
        "import numpy as np\n",
        "matplotlib.rcParams['figure.figsize'] = [12.0,6.0] # Modifies the defult size of plots [6.0,4.0] inches"
      ],
      "execution_count": null,
      "outputs": []
    },
    {
      "cell_type": "markdown",
      "metadata": {
        "id": "dP414cHMBXPY"
      },
      "source": [
        "# Define initial parameters"
      ]
    },
    {
      "cell_type": "code",
      "metadata": {
        "id": "b8E625euBXPa"
      },
      "source": [
        "E_0 = 90 # Number of employed individuals at t = 0\n",
        "U_0 = 10 # Number of unemployed individuals at t = 0\n",
        "f = 0.3 # Job finding probability\n",
        "s = 0.05 # Job separation probabilty\n",
        "T = 25 # Number of periods simulated"
      ],
      "execution_count": null,
      "outputs": []
    },
    {
      "cell_type": "markdown",
      "metadata": {
        "id": "SLBN8xhgBXPc"
      },
      "source": [
        "# Use the procedual paradigm"
      ]
    },
    {
      "cell_type": "code",
      "metadata": {
        "id": "BU_yhu0hBXPd"
      },
      "source": [
        "# Compute the number of employed and unemployed for all periods \n",
        "E = [E_0]\n",
        "U = [U_0]\n",
        "UR = [U_0/(E_0+U_0)]\n",
        "\n",
        "for t in range(1,T):\n",
        "    E.append(E[t-1] + ((f*U[t-1])-(s*E[t-1])))\n",
        "    U.append(U[t-1] + ((s*E[t-1])-(f*U[t-1])))\n",
        "    \n",
        "    # Compute unemployment rate \n",
        "    UR.append(U[t]/(E[t]+U[t]))\n",
        "    \n",
        "# Compute steady-state unemployment rate \n",
        "UR_ss = (1/(1+(f/s)))"
      ],
      "execution_count": null,
      "outputs": []
    },
    {
      "cell_type": "code",
      "metadata": {
        "id": "rNHZoUW6BXPf"
      },
      "source": [
        "fig, ax = plt.subplots()\n",
        "# Plot steady state value of the unemployment rate\n",
        "ax.plot([UR_ss]*T, 'k-', label = 'Steady State')\n",
        "# Plot time series for unemployment rate\n",
        "ax.plot(UR, 'o-', lw = 2, alpha = 1.0, label = 'Unemployment Rate')\n",
        "\n",
        "# Adjust some plot attributes\n",
        "ax.legend(loc='lower right')\n",
        "plt.xticks(np.arange(0, T, step=1))\n",
        "plt.show()"
      ],
      "execution_count": null,
      "outputs": []
    },
    {
      "cell_type": "markdown",
      "metadata": {
        "id": "ReqZEKFWBXPf"
      },
      "source": [
        "# Use the functional paradigm"
      ]
    },
    {
      "cell_type": "code",
      "metadata": {
        "id": "4Xt10XRjBXPg"
      },
      "source": [
        "def Urate(e,u):\n",
        "    \"\"\"\n",
        "    TBW\n",
        "    \"\"\"\n",
        "    return u/(e+u)\n",
        "\n",
        "def Urate_ss(f,s):\n",
        "    \"\"\"\n",
        "    TBW\n",
        "    \"\"\"\n",
        "    return (1/(1+(f/s)))\n",
        "\n",
        "def update_stock(stock, compl, p_in, p_out):\n",
        "    \"\"\"\n",
        "    TBW\n",
        "    \"\"\"\n",
        "    return stock + ((p_in*compl)-(p_out*stock))\n",
        "\n",
        "def create_series(E_0, U_0, T, f, s):\n",
        "    \"\"\"\n",
        "    TBW\n",
        "    \"\"\"\n",
        "    E = [E_0]\n",
        "    U = [U_0]\n",
        "    UR = [Urate(E_0,U_0)]\n",
        "    \n",
        "    for t in range(1,T):\n",
        "        E.append(update_stock(E[t-1], U[t-1], f, s))\n",
        "        U.append(update_stock(U[t-1], E[t-1], s, f))\n",
        "\n",
        "        # Compute unemployment rate \n",
        "        UR.append(Urate(E[t],U[t]))\n",
        "    \n",
        "    return E, U, UR"
      ],
      "execution_count": null,
      "outputs": []
    },
    {
      "cell_type": "code",
      "metadata": {
        "id": "OlIgsVeoBXPh"
      },
      "source": [
        "E, U, UR = create_series(E_0, U_0, T, f, s)"
      ],
      "execution_count": null,
      "outputs": []
    },
    {
      "cell_type": "code",
      "metadata": {
        "id": "TPsuC93TBXPi"
      },
      "source": [
        "fig, ax = plt.subplots()\n",
        "# Plot steady state value of the unemployment rate\n",
        "ax.plot([Urate_ss(f,s)]*T, 'k-', label = 'Steady State')\n",
        "# Plot time series for unemployment rate\n",
        "ax.plot(UR, 'o-', lw = 2, alpha = 1.0, label = 'Unemployment Rate')\n",
        "\n",
        "# Adjust some plot attributes\n",
        "ax.legend(loc='lower right')\n",
        "plt.xticks(np.arange(0, T, step=1))\n",
        "plt.show()"
      ],
      "execution_count": null,
      "outputs": []
    },
    {
      "cell_type": "markdown",
      "metadata": {
        "id": "e0cEeVTuBXPk"
      },
      "source": [
        "# Use the Object-oriented paradigm"
      ]
    },
    {
      "cell_type": "markdown",
      "metadata": {
        "id": "K07hKIwHBXPl"
      },
      "source": [
        "## Define the class\n",
        "In Python, when we define a class we mainly need to do two things:\n",
        "1. Define the **data** that can be contained by the class. A key statement here is `def __init___(self,..)`.\n",
        "2. Define the **methods** associated with our class. The definition of methods works pretty much as a the definition of functions.\n",
        "\n",
        "Our labour market class contains four data elements:\n",
        "- `E`: Amount of employed people.\n",
        "- `U`: Amount of unemployed people.\n",
        "- `f`: Probability for an unemployed to find a job.\n",
        "- `s`: Probability for an employed to lose their job.\n",
        "\n",
        "We define five methods:\n",
        "- `UR`: Computes the unemployment rate.\n",
        "- `ER`: Computes the employment rate.\n",
        "- `t_forward`: Modifies the current data in `E` and `U` by computing the stocks for one period forward.\n",
        "- `steady_state`: Computes the steady state unemployment rate.\n",
        "- `sequence`: Computes a sequence of predicted unemployment rates."
      ]
    },
    {
      "cell_type": "code",
      "metadata": {
        "id": "gRmzn4tiBXPm"
      },
      "source": [
        "class simple_lm:\n",
        "    def __init__(self, inputed_E, inputed_U, inputed_f, inputed_s):\n",
        "        self.E = inputed_E\n",
        "        self.U = inputed_U\n",
        "        self.f = inputed_f\n",
        "        self.s = inputed_s\n",
        "    def UR(self):\n",
        "        return (self.U)/(self.U+self.E)\n",
        "    def ER(self):\n",
        "        return (self.E)/(self.U+self.E)\n",
        "    def t_forward(self):\n",
        "        self.E = self.E + ((self.f*self.U)-(self.s*self.E))\n",
        "        self.U = self.U + ((self.s*self.E)-(self.f*self.U))\n",
        "    def steady_state(self):\n",
        "        return (1/(1+(self.f/self.s)))\n",
        "    def sequence(self,t):\n",
        "        path_UR = []\n",
        "        for i in range(t):\n",
        "            # Add current value of UR to path\n",
        "            path_UR.append(self.UR())\n",
        "            # Update values of ER and UR\n",
        "            self.t_forward()\n",
        "        return path_UR"
      ],
      "execution_count": null,
      "outputs": []
    },
    {
      "cell_type": "markdown",
      "metadata": {
        "id": "f85cCykqBXPm"
      },
      "source": [
        "## Define instance"
      ]
    },
    {
      "cell_type": "code",
      "metadata": {
        "id": "55PlMb6pBXPn"
      },
      "source": [
        "MyCountry = simple_lm(E_0,U_0,f,s)"
      ],
      "execution_count": null,
      "outputs": []
    },
    {
      "cell_type": "code",
      "metadata": {
        "id": "V4e3k41HBXPn"
      },
      "source": [
        "fig, ax = plt.subplots()\n",
        "# Plot steady state value of the unemployment rate\n",
        "ax.plot([MyCountry.steady_state()]*T, 'k-', label = 'Steady State')\n",
        "# Plot time series for unemployment rate\n",
        "ax.plot(MyCountry.sequence(T), 'o-', lw = 2, alpha = 1.0, label = 'Unemployment Rate')\n",
        "\n",
        "ax.legend(loc='lower right')\n",
        "plt.xticks(np.arange(0, T, step=1))\n",
        "plt.show()"
      ],
      "execution_count": null,
      "outputs": []
    }
  ]
}