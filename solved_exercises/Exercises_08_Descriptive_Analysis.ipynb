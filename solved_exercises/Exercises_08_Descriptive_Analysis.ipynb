{
 "cells": [
  {
   "cell_type": "markdown",
   "metadata": {
    "id": "wA_6bQI88eTN"
   },
   "source": [
    "# Import data\n",
    "Given the shape of our data, the best option is probably to use a [`pandas.DataFrame`](https://pandas.pydata.org/pandas-docs/stable/generated/pandas.DataFrame.html) to work with the data we want to analyze. Pandas has a very useful function, [`pandas.read_excel`](https://pandas.pydata.org/pandas-docs/stable/generated/pandas.read_excel.html) to import data from an Excel file into a `pandas.DataFrame`.\n",
    "\n",
    "Given the shape of our spreadsheet, we face (at least) three issues:\n",
    "1. There are some rows, at the beginning of the spreadseet, that we do not want to read/use.\n",
    "2. The shape of the Excel file is, basically, the opposite of what is the convention for `pandas`. The index (the time period) is usually in rows instead of columns.\n",
    "3. Missing data is recorded by Eurostat using `:` while the proper way to record a missing observation is using a `NaN` record.\n",
    "4. Some country names (Germany and Macedonia) are recorded poorly to be used (in a loop for example).\n",
    "5. A key issue when using `pandas` classes is [indexing](https://pandas.pydata.org/pandas-docs/stable/indexing.html). Since we are dealing with (a set of) [time series](https://pandas.pydata.org/pandas-docs/stable/timeseries.html), we want the index to have the proper functionality. In particular, our data refers to a full calendar year quarter which can be represented using a [period](https://pandas.pydata.org/pandas-docs/stable/timeseries.html#periodindex-and-period-range). This sort of information cannot be read from the Excel file."
   ]
  },
  {
   "cell_type": "markdown",
   "metadata": {
    "id": "UUxV-JdA8eTZ"
   },
   "source": [
    "## Read the Excel file and transpose it\n",
    "We want to:\n",
    "- **Not** read the first rows of the spreadsheet: we can use the `skiprow` option of `pandas.read_excel`. \n",
    "- Correct for the fact that the shape of the Excel file is the opposite of what we need:\n",
    "    - We can use the method [`DataFrame.T`](https://pandas.pydata.org/pandas-docs/stable/generated/pandas.DataFrame.T.html#pandas.DataFrame.T) to transpose the `pandas.DataFrame`.\n",
    "    - We can set the country as index (using the `index_col` option of `pandas.read_excel`), **before** transposing, in order to have a cleaner transposition."
   ]
  },
  {
   "cell_type": "code",
   "execution_count": null,
   "metadata": {
    "id": "yS9oDNQF-Fgp"
   },
   "outputs": [],
   "source": [
    "from google.colab import drive\n",
    "drive.mount('/content/drive')"
   ]
  },
  {
   "cell_type": "code",
   "execution_count": null,
   "metadata": {
    "id": "qGCoPjjo-FNF"
   },
   "outputs": [],
   "source": [
    "MyFolder = '/content/drive/My Drive/Colab Notebooks/2021_2022_Programming_for_Statistical_Analysis/'\n",
    "MyFile = MyFolder + 'Eurostat.xls' "
   ]
  },
  {
   "cell_type": "code",
   "execution_count": null,
   "metadata": {
    "id": "K2DvYsEp8eTc"
   },
   "outputs": [],
   "source": [
    "import pandas as pd\n",
    "\n",
    "UnemploymentRate = pd.read_excel(MyFile, skiprows=11, index_col=0)\n",
    "UnemploymentRate = UnemploymentRate.T\n",
    "UnemploymentRate"
   ]
  },
  {
   "cell_type": "markdown",
   "metadata": {
    "id": "-wdrRNFL8eTe"
   },
   "source": [
    "## Replace `:` for `NaN`"
   ]
  },
  {
   "cell_type": "code",
   "execution_count": null,
   "metadata": {
    "id": "UTiORCuv8eTg"
   },
   "outputs": [],
   "source": [
    "import numpy as np\n",
    "\n",
    "UnemploymentRate = UnemploymentRate.replace(':', np.NaN)\n",
    "UnemploymentRate"
   ]
  },
  {
   "cell_type": "markdown",
   "metadata": {
    "id": "ILYKDU6f8eTh"
   },
   "source": [
    "## Shorten country names Germany and Macedonia\n",
    "We can use the [`DataFrame.rename()`](https://pandas.pydata.org/pandas-docs/stable/generated/pandas.DataFrame.rename.html#pandas.DataFrame.rename) method."
   ]
  },
  {
   "cell_type": "code",
   "execution_count": null,
   "metadata": {
    "id": "T6gX3sw38eTi"
   },
   "outputs": [],
   "source": [
    "UnemploymentRate = UnemploymentRate.rename(columns = {'Germany (until 1990 former territory of the FRG)':'Germany'})\n",
    "UnemploymentRate = UnemploymentRate.rename(columns = {'Former Yugoslav Republic of Macedonia, the':'Macedonia'})\n",
    "UnemploymentRate"
   ]
  },
  {
   "cell_type": "markdown",
   "metadata": {
    "id": "edDObf5Q8eTj"
   },
   "source": [
    "We can also change the name of the list which stores the names of the countries:"
   ]
  },
  {
   "cell_type": "code",
   "execution_count": null,
   "metadata": {
    "id": "ufKMlcea8eTl"
   },
   "outputs": [],
   "source": [
    "UnemploymentRate.columns.name = 'Countries'\n",
    "UnemploymentRate"
   ]
  },
  {
   "cell_type": "markdown",
   "metadata": {
    "id": "s_gX8GzF8eTn"
   },
   "source": [
    "## Proper time series index\n",
    "Although it *looks* correct, currently, our `pandas.DataFrame` instance `UnemploymentRate` does not know that is containing time series:"
   ]
  },
  {
   "cell_type": "code",
   "execution_count": null,
   "metadata": {
    "id": "Ulg4qnDM8eTo"
   },
   "outputs": [],
   "source": [
    "UnemploymentRate.index"
   ]
  },
  {
   "cell_type": "markdown",
   "metadata": {
    "id": "o5y7R7Jc8eTp"
   },
   "source": [
    "The index is just a list of strings, not a range of periods. We can define a range of periods by:"
   ]
  },
  {
   "cell_type": "code",
   "execution_count": null,
   "metadata": {
    "id": "jWifETEi8eTp"
   },
   "outputs": [],
   "source": [
    "dates = pd.period_range(start='2010Q2', end='2017Q4', freq='Q', name='Quarterly Frequency')\n",
    "dates"
   ]
  },
  {
   "cell_type": "code",
   "execution_count": null,
   "metadata": {
    "id": "ic20LPOI8eTq"
   },
   "outputs": [],
   "source": [
    "UnemploymentRate.index = dates\n",
    "UnemploymentRate"
   ]
  },
  {
   "cell_type": "markdown",
   "metadata": {
    "id": "ZFdUU7IN8eTq"
   },
   "source": [
    "# Plot selected time series\n",
    "It's straight forward to use `pandas` to create data [visulizations](https://pandas.pydata.org/pandas-docs/stable/visualization.html)."
   ]
  },
  {
   "cell_type": "code",
   "execution_count": null,
   "metadata": {
    "id": "E44SSJJC8eTr"
   },
   "outputs": [],
   "source": [
    "import matplotlib\n",
    "import matplotlib.pyplot as plt\n",
    "\n",
    "matplotlib.rcParams['figure.figsize'] = [12.0,6.0] # Modifies the defult size of plots [6.0,4.0] inches"
   ]
  },
  {
   "cell_type": "code",
   "execution_count": null,
   "metadata": {
    "id": "-f1bmgyr8eTr"
   },
   "outputs": [],
   "source": [
    "UnemploymentRate['Switzerland'].plot(legend=True)\n",
    "# UnemploymentRate['Macedonia'].plot(legend=True)\n",
    "UnemploymentRate['Germany'].plot(legend=True)\n",
    "# UnemploymentRate['Sweden'].plot(legend=True)\n",
    "# UnemploymentRate['Spain'].plot(legend=True)\n",
    "# UnemploymentRate['Austria'].plot(legend=True)\n",
    "# UnemploymentRate['Greece'].plot(legend=True)\n",
    "plt.ylabel('Unemployment Rate (%)')\n",
    "plt.show()"
   ]
  }
 ],
 "metadata": {
  "colab": {
   "collapsed_sections": [],
   "name": "Exercises 08: Descriptive Analysis",
   "provenance": []
  },
  "kernelspec": {
   "display_name": "Python 3",
   "language": "python",
   "name": "python3"
  },
  "language_info": {
   "codemirror_mode": {
    "name": "ipython",
    "version": 3
   },
   "file_extension": ".py",
   "mimetype": "text/x-python",
   "name": "python",
   "nbconvert_exporter": "python",
   "pygments_lexer": "ipython3",
   "version": "3.8.8"
  }
 },
 "nbformat": 4,
 "nbformat_minor": 4
}
