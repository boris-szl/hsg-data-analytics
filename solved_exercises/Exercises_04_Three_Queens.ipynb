{
  "nbformat": 4,
  "nbformat_minor": 0,
  "metadata": {
    "kernelspec": {
      "display_name": "Python 3",
      "language": "python",
      "name": "python3"
    },
    "language_info": {
      "codemirror_mode": {
        "name": "ipython",
        "version": 3
      },
      "file_extension": ".py",
      "mimetype": "text/x-python",
      "name": "python",
      "nbconvert_exporter": "python",
      "pygments_lexer": "ipython3",
      "version": "3.8.5"
    },
    "colab": {
      "name": "Exercises 04: Three Queens",
      "provenance": [],
      "collapsed_sections": []
    }
  },
  "cells": [
    {
      "cell_type": "markdown",
      "metadata": {
        "id": "h67Y_M0eQkEZ"
      },
      "source": [
        "---\n",
        "# Generate a toss of a fair coin\n",
        "There are differents ways to do this, for all of them we need to use the `NumPy` library."
      ]
    },
    {
      "cell_type": "markdown",
      "metadata": {
        "id": "VY5Z-7OZQkEW"
      },
      "source": [
        "# The Three Queens Game\n",
        "\n",
        "![alt text](https://i.guim.co.uk/img/media/f225ceea8511c914c7dde576ecde1558131462a9/0_0_2558_1536/master/2558.jpg?width=620&quality=85&auto=format&fit=max&s=13fe4453c10e3a055955a5665bb14cb6 \"Three Queens\")\n",
        "\n",
        "# Game Rules \n",
        "- Three fair coins (Queen/Tails) are tossed at the same time.\n",
        "- Before knowing the outcome of the tossed coins, the player bets an amount of money.\n",
        "- Pay-offs:\n",
        "    - If there are 3 Queens, the pay-off is her bet times 9.\n",
        "    - If there are 2 Queens, the pay-off is her bet times -2.\n",
        "    - If there is 1 Queen, the player loses her bet.\n",
        "    - Otherwise, the player does not lose her bet.\n",
        "- A player starts with 10 CHF in her pocket.\n",
        "- Players always have to bet a positive amount of money.\n",
        "- The game finishes when the player runs out of money or she has bet 10 times.\n",
        "\n",
        "# Exercises\n",
        "1. Design and implement an algorithm that allows a user to play the Three Queens Game.\n",
        "2. Add to (1) a plot of the evolution of the stock of money of the user, her bets, and the pay-offs received.\n"
      ]
    },
    {
      "cell_type": "code",
      "metadata": {
        "id": "rbFrnPpwQkEa"
      },
      "source": [
        "import numpy as np"
      ],
      "execution_count": null,
      "outputs": []
    },
    {
      "cell_type": "code",
      "metadata": {
        "id": "wG6FMRVXX-Vq"
      },
      "source": [
        "def coin_toss():\n",
        "    return np.random.randint(2)"
      ],
      "execution_count": null,
      "outputs": []
    },
    {
      "cell_type": "markdown",
      "metadata": {
        "id": "9YQSS9uWQkEb"
      },
      "source": [
        "# Toss three coins and compute pay-off\n",
        "We need a function that, given a bet (a float), tells us what is the pay-off. To compute the pay-off we need to toss three coins."
      ]
    },
    {
      "cell_type": "code",
      "metadata": {
        "id": "M3wSF7vRQkEc"
      },
      "source": [
        "def pay_off(bet):\n",
        "    # Generate 3 coin tosses\n",
        "    mytoss = coin_toss() + coin_toss() + coin_toss()\n",
        "    print('You have obtained {} Queen(s)!'.format(mytoss))\n",
        "    \n",
        "    if mytoss == 3:\n",
        "        return bet*9\n",
        "    elif mytoss == 0:\n",
        "        return 0\n",
        "    elif (mytoss == 1) or (mytoss == 2):\n",
        "        return bet*(-mytoss)\n",
        "    else:\n",
        "        print('ERROR: Unexpected number of Queens')"
      ],
      "execution_count": null,
      "outputs": []
    },
    {
      "cell_type": "markdown",
      "metadata": {
        "id": "PkGARsEMQkEd"
      },
      "source": [
        "As a check-up we can run the `pay_off` function many times with a constant bet and look at the outcomes we obtain."
      ]
    },
    {
      "cell_type": "code",
      "metadata": {
        "id": "mb8-Vfa8QkEf"
      },
      "source": [
        "# Play n times mybet CHF\n",
        "n = 1000\n",
        "outcomes = []\n",
        "mybet = 1\n",
        "\n",
        "for i in range(0,n):\n",
        "    outcomes.append(pay_off(mybet))\n",
        "\n",
        "# Display how many times each pay-off has happened\n",
        "set_payoffs = set(outcomes) # Set of unique outcomes\n",
        "for my_payoff in set_payoffs:\n",
        "    print('Pay-off {} CHF has occurred {:.3f}% of the times'.format(my_payoff,(outcomes.count(my_payoff)/n)*100))\n",
        "\n",
        "print('The average pay-off is {:.3f} CHF'.format(np.mean(outcomes))) \n",
        "print('The stardard deviation of the pay-offs is {:.3f}'.format(np.std(outcomes))) "
      ],
      "execution_count": null,
      "outputs": []
    },
    {
      "cell_type": "markdown",
      "metadata": {
        "id": "YO_kOltmQkEf"
      },
      "source": [
        "# Obtain bet from user\n",
        "We can create a function that prompts the user for a valid bet. A valid bet is:\n",
        "- Higher than zero.\n",
        "- Lower or equal than the amount of money available to the user."
      ]
    },
    {
      "cell_type": "code",
      "metadata": {
        "id": "4sgRq_bXQkEg"
      },
      "source": [
        "def get_bet(money):\n",
        "     while True:\n",
        "        bet = float(input('How much do you want to bet(>0)? '))\n",
        "        if bet > 0 and bet <= money: # Make sure user does not bet more than her money\n",
        "            return bet\n",
        "            break"
      ],
      "execution_count": null,
      "outputs": []
    },
    {
      "cell_type": "markdown",
      "metadata": {
        "id": "AG0bdEmGQkEg"
      },
      "source": [
        "# Present outcome of a play to the user\n",
        "There are several ways to do this, here is a simple one using a `function`:"
      ]
    },
    {
      "cell_type": "code",
      "metadata": {
        "id": "VDcLjL-5QkEh"
      },
      "source": [
        "def present_outcome(outcome):\n",
        "    if  outcome == 0:\n",
        "        print('You do not earn nor lose any money!')\n",
        "    else:\n",
        "        if outcome > 0:\n",
        "            myword = 'earn'\n",
        "        else:\n",
        "            myword = 'lose'\n",
        "        print('You',myword,'{} CHF!'.format(outcome))\n"
      ],
      "execution_count": null,
      "outputs": []
    },
    {
      "cell_type": "markdown",
      "metadata": {
        "id": "CjzJMqcNQkEi"
      },
      "source": [
        "# Put the game together\n",
        "Now that we have all parts of the game, we want to have a code that initilises the amout of money to the user to 10 CHF and makes sure that the user plays at most 10 times."
      ]
    },
    {
      "cell_type": "code",
      "metadata": {
        "id": "_dD3ueEbQkEi"
      },
      "source": [
        "# Initialise amount of money and times played\n",
        "money = 10\n",
        "t_played = 0\n",
        "t_max = 10 # Maximum number of times allowed to play\n",
        "\n",
        "while True:\n",
        "    # Inform user about the amount of money she holds and times played\n",
        "    print('\\n') # Just prints a line break\n",
        "    print('You have {:.3f} CHF and you have played {} times'.format(money,t_played))\n",
        "    \n",
        "    # Prompt the user for her bet\n",
        "    bet = get_bet(money)\n",
        "    \n",
        "    # Inform user about the outcome of the game\n",
        "    outcome = pay_off(bet)\n",
        "    present_outcome(outcome)\n",
        "    \n",
        "    # Update amount of money\n",
        "    money = money + outcome\n",
        "    \n",
        "    # Update times played\n",
        "    t_played += 1\n",
        "    \n",
        "    # Exit if money is non-positive\n",
        "    if money <= 0:\n",
        "        print('You run out of money!')\n",
        "        break\n",
        "    \n",
        "    # Exit if all rounds have been played\n",
        "    if t_played >= t_max:\n",
        "        print('You finished the game!')\n",
        "        break\n",
        "\n",
        "# Inform user of final result\n",
        "print('\\n')\n",
        "print('\\033[1;31mYour final balance is {:.3f} CHF\\033[1;31m'.format(money))"
      ],
      "execution_count": null,
      "outputs": []
    },
    {
      "cell_type": "markdown",
      "metadata": {
        "id": "YVQo3JfcQkEi"
      },
      "source": [
        "# Add plots to the game\n",
        "After a user has played, we want to display:\n",
        "- A plot of the evolution of the money in her pocket.\n",
        "- A plot of the differents bets made.\n",
        "- A plot of the differents outcomes obtained."
      ]
    },
    {
      "cell_type": "code",
      "metadata": {
        "id": "dJcpndhIQkEi"
      },
      "source": [
        "import matplotlib.pyplot as plt # Package to plot data\n",
        "        \n",
        "# Initialise amount of money and times played\n",
        "money = 10\n",
        "t_played = 0\n",
        "\n",
        "# Maximum number of times allowed to play\n",
        "t_max = 10\n",
        "\n",
        "# Initialise empty lists to keep track of money, bets, and outcomes\n",
        "lmoney = []\n",
        "lbet = []\n",
        "loutcome = []\n",
        "\n",
        "while True:\n",
        "    # Inform user about the amount of money she holds and times played\n",
        "    print('\\n') # Just prints a line break\n",
        "    print('You have {:.3f} CHF and you have played {} times'.format(money,t_played))\n",
        "    \n",
        "    # Prompt the user for her bet\n",
        "    bet = get_bet(money)\n",
        "    lbet.append(bet) # Keep record of bets\n",
        "    \n",
        "    # Inform user about the outcome of the game\n",
        "    outcome = pay_off(bet)\n",
        "    present_outcome(outcome)\n",
        "    loutcome.append(outcome) # Keep record of outcomes\n",
        "    \n",
        "    # Update amount of money\n",
        "    money = money + outcome\n",
        "    lmoney.append(money) # Keep record of money\n",
        "    \n",
        "    # Update times played\n",
        "    t_played += 1\n",
        "    \n",
        "    # Exit if money is non-positive\n",
        "    if money <= 0:\n",
        "        print('You round out of money!')\n",
        "        break\n",
        "    \n",
        "    # Exit if all rounds have been played\n",
        "    if t_played >= t_max:\n",
        "        print('You finished the game!')\n",
        "        break\n",
        "\n",
        "# Inform user of final result\n",
        "print('\\n')\n",
        "print('\\033[1;31mYour final balance is {:.3f} CHF\\033[1;31m'.format(money))\n",
        "\n",
        "for v in [lbet, loutcome, lmoney]:\n",
        "    # Title of the plot\n",
        "    if v == lbet:\n",
        "        mytitle = \"Bets\"\n",
        "    elif v == loutcome:\n",
        "        mytitle = \"Outcomes\"\n",
        "    elif v == lmoney:\n",
        "        mytitle =\"Money\"\n",
        "        \n",
        "    plt.plot(v,'ro')\n",
        "    plt.title(mytitle)\n",
        "    plt.show()"
      ],
      "execution_count": null,
      "outputs": []
    }
  ]
}