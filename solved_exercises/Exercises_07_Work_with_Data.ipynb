{
 "cells": [
  {
   "cell_type": "markdown",
   "metadata": {
    "id": "EJBSu06r4GcX"
   },
   "source": [
    "# Useful resources\n",
    "In Python, most data handiling is done using a library called [pandas](https://pandas.pydata.org/). To get started, it's useful to look at: \n",
    "- [Pandas section in Lectures in Quantitative Economics](https://lectures.quantecon.org/py/pandas.html)\n",
    "- [10 Minutes to pandas](https://pandas.pydata.org/pandas-docs/stable/10min.html)\n",
    "- [Intro to Data Structures](https://pandas.pydata.org/pandas-docs/stable/dsintro.html)\n",
    "\n",
    "In order to generate random number the library [numpy.random](https://docs.scipy.org/doc/numpy-1.14.0/reference/routines.random.html) is very useful."
   ]
  },
  {
   "cell_type": "markdown",
   "metadata": {
    "id": "CO4o3W6p4Gcg"
   },
   "source": [
    "# Exercise 1\n",
    "Create a [Series](https://pandas.pydata.org/pandas-docs/stable/reference/api/pandas.Series.html#pandas.Series) which contains synthetic data which contain $N$ draws from a normal distribution with mean $\\mu$ and standard deviation $\\sigma$. \n",
    "\n",
    "For example, you can generate $N$=1000 draws with $\\mu$=175.0 and $\\sigma$=5.0, which generates a sample that looks like measuring male height in Switzerland.\n",
    "- Compute descriptive statistics of the sample.\n",
    "- Plot an histogram."
   ]
  },
  {
   "cell_type": "code",
   "execution_count": null,
   "metadata": {
    "id": "LDtQV5tN4Gci"
   },
   "outputs": [],
   "source": [
    "import pandas as pd\n",
    "import numpy as np\n",
    "import matplotlib\n",
    "import matplotlib.pyplot as plt\n",
    "matplotlib.rcParams['figure.figsize'] = [12.0,6.0] # Modifies the defult size of plots [6.0,4.0] inches"
   ]
  },
  {
   "cell_type": "code",
   "execution_count": null,
   "metadata": {
    "id": "wODIouPU4Gcl"
   },
   "outputs": [],
   "source": [
    "# Set parameters\n",
    "np.random.seed(seed=12345)\n",
    "mu = 175.0 # Mean\n",
    "sigma = 5.0 # Standard deviation\n",
    "N = 10_000 # Number of observations\n",
    "\n",
    "# Create series\n",
    "SynHeight = pd.Series(np.random.normal(mu, sigma, N), name = 'Synthetic Height')\n",
    "\n",
    "# Describe stats\n",
    "# SynHeight.describe()\n",
    "SynHeight"
   ]
  },
  {
   "cell_type": "code",
   "execution_count": null,
   "metadata": {
    "id": "OlCDci2i4Gcm"
   },
   "outputs": [],
   "source": [
    "SynHeight.hist(bins=1000)\n",
    "plt.ylabel('Frequency')\n",
    "plt.xlabel('Height From Synthetic Data')\n",
    "plt.title('Histogram')\n",
    "plt.show()"
   ]
  },
  {
   "cell_type": "markdown",
   "metadata": {
    "id": "TeIQqUd-4Gcn"
   },
   "source": [
    "# Exercise 2\n",
    "Generate an autoregressive process of order one, which follows \n",
    "\\begin{equation}\n",
    "x_t = \\rho x_{t-1} + \\epsilon_t\\text{,}\n",
    "\\end{equation}\n",
    "where $\\epsilon_t$ follows a normal distribution with zero mean and standard deviation $\\sigma_\\epsilon$ = 2.0. The peristance parameter $\\rho$ is 0.5. The index of the series is defined by all days of year 2019.\n",
    "\n",
    "Make sure that the plot you generate is exactly the same everytime you run the code."
   ]
  },
  {
   "cell_type": "code",
   "execution_count": null,
   "metadata": {
    "id": "W_u4n9eK4Gco"
   },
   "outputs": [],
   "source": [
    "import random\n",
    "\n",
    "# Set parameters\n",
    "T = 365\n",
    "rho = 0.5\n",
    "sigma_e = 2.0\n",
    "iniVal = 0.0\n",
    "random.seed(12345)\n",
    "\n",
    "# Generate process\n",
    "SynAR1 = pd.Series(iniVal, name = 'Synthetic AR(1) process')\n",
    "for d in range(1,T):\n",
    "    SynAR1[d] = (rho*SynAR1[d-1]) + random.gauss(0.0, sigma_e)\n",
    "    \n",
    "# Assign index\n",
    "SynAR1.index = pd.date_range(start='01/01/2021', end='31/12/2021', freq='D')\n",
    "SynAR1"
   ]
  },
  {
   "cell_type": "code",
   "execution_count": null,
   "metadata": {
    "id": "DpkpY_2N4Gco"
   },
   "outputs": [],
   "source": [
    "SynAR1.plot()\n",
    "plt.title('AR(1) Process')\n",
    "plt.xlabel('Daily Frequency')\n",
    "plt.show()"
   ]
  }
 ],
 "metadata": {
  "colab": {
   "collapsed_sections": [],
   "name": "Exercises 07: Work with Data",
   "provenance": []
  },
  "kernelspec": {
   "display_name": "Python 3",
   "language": "python",
   "name": "python3"
  },
  "language_info": {
   "codemirror_mode": {
    "name": "ipython",
    "version": 3
   },
   "file_extension": ".py",
   "mimetype": "text/x-python",
   "name": "python",
   "nbconvert_exporter": "python",
   "pygments_lexer": "ipython3",
   "version": "3.8.8"
  }
 },
 "nbformat": 4,
 "nbformat_minor": 4
}
