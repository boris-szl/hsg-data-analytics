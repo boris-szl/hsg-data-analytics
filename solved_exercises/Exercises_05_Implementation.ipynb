{
  "nbformat": 4,
  "nbformat_minor": 0,
  "metadata": {
    "kernelspec": {
      "display_name": "Python 3",
      "language": "python",
      "name": "python3"
    },
    "language_info": {
      "codemirror_mode": {
        "name": "ipython",
        "version": 3
      },
      "file_extension": ".py",
      "mimetype": "text/x-python",
      "name": "python",
      "nbconvert_exporter": "python",
      "pygments_lexer": "ipython3",
      "version": "3.6.8"
    },
    "colab": {
      "name": "Exercises 05: Implementation",
      "provenance": [],
      "collapsed_sections": []
    }
  },
  "cells": [
    {
      "cell_type": "markdown",
      "metadata": {
        "id": "mMTEUYH39LJv"
      },
      "source": [
        "# Loop implementation\n",
        "First, we define a function that computes the polynomial using a loop. We can add `print` statements in different parts of the function to ilustrate the steps."
      ]
    },
    {
      "cell_type": "code",
      "metadata": {
        "id": "UFoEh7n-9LJ5"
      },
      "source": [
        "def p_loop(x,coef):\n",
        "    print(\"Start loop implementation...\")\n",
        "    total = 0 # Keep track of the sum\n",
        "    for i, a in enumerate(coef):\n",
        "        total = total + (a*(x**i))\n",
        "        print(\"Adding the coefficient {} multiplied by x**{}\".format(a,i))\n",
        "    return total"
      ],
      "execution_count": null,
      "outputs": []
    },
    {
      "cell_type": "markdown",
      "metadata": {
        "id": "NNn1xMhD9LJ-"
      },
      "source": [
        "# Matrix algebra implementation\n",
        "There are a couple of functions from the `numpy` library that might be useful for the task at hand:\n",
        "- [`numpy.cumprod`](https://docs.scipy.org/doc/numpy/reference/generated/numpy.cumprod.html): Return the cumulative product of elements along a given axis.\n",
        "- [`numpy.dot`](https://docs.scipy.org/doc/numpy/reference/generated/numpy.dot.html): Dot product of two arrays.\n",
        "\n",
        "It's also a good idea to ilustrate how this function works using `print` statements."
      ]
    },
    {
      "cell_type": "code",
      "metadata": {
        "id": "3qxph9Pf9LKE"
      },
      "source": [
        "import numpy as np\n",
        "\n",
        "def p_ma(x, coef):\n",
        "    print(\"Start matrix algebra implementation...\")\n",
        "    X = np.empty(len(coef))\n",
        "    print(\"Create an empty vector of xs:\\n{}\".format(X))\n",
        "    X[0] = 1\n",
        "    print(\"Assign 1 to the first element of the vector:\\n{}\".format(X))\n",
        "    X[1:] = x\n",
        "    print(\"Assign x to the remaining elements of the vector:\\n{}\".format(X))\n",
        "    X = np.cumprod(X) \n",
        "    print(\"Power each x to the appropiate power:\\n{}\".format(X))\n",
        "    return np.dot(coef, X)"
      ],
      "execution_count": null,
      "outputs": []
    },
    {
      "cell_type": "markdown",
      "metadata": {
        "id": "fq0Ur4CG9LKI"
      },
      "source": [
        "# Output comparison\n",
        "Both implementation should yield almost identical results. We can write a little code to compare both implementations."
      ]
    },
    {
      "cell_type": "code",
      "metadata": {
        "id": "ZHDisLr39LKL"
      },
      "source": [
        "n_coef = 5 # Number of coefficients\n",
        "lower_bound = 1 # Smallest possible coefficient\n",
        "upper_bound = 50 # Biggest possible coefficient \n",
        "sample_coef = np.random.randint(lower_bound, upper_bound, size=n_coef) # Random coefficients between bounds\n",
        "print(\"The list of coefficients is \\n {} \\n\".format(sample_coef))\n",
        "\n",
        "eval_x = 2 # X at which polynomial is evaluated\n",
        "\n",
        "loop_output = p_loop(eval_x, sample_coef)\n",
        "print(\"The loop implementation returs as result {} \\n\".format(loop_output))\n",
        "\n",
        "ma_output = p_ma(eval_x, sample_coef)\n",
        "print(\"The matrix algebra implementation returs as result {} \\n\".format(ma_output))"
      ],
      "execution_count": null,
      "outputs": []
    },
    {
      "cell_type": "markdown",
      "metadata": {
        "id": "idiRb9Tx9LKP"
      },
      "source": [
        "# Performance comparison\n",
        "We want to know which of the two implementations is faster. In order to measure the time difference between the two implementations, first we need to create a version of the two functions that does **not** use any `print` statements. These statements consume time and we do not want our measure of time to be contaminted by that."
      ]
    },
    {
      "cell_type": "code",
      "metadata": {
        "id": "qSvAAePQ9LKS"
      },
      "source": [
        "def p_loop(x,coef):\n",
        "    total = 0 # Keep track of the sum\n",
        "    for i, a in enumerate(coef):\n",
        "        total = total + (a*(x**i))\n",
        "    return total"
      ],
      "execution_count": null,
      "outputs": []
    },
    {
      "cell_type": "code",
      "metadata": {
        "id": "LmjwcpYS9LKV"
      },
      "source": [
        "def p_ma(x, coef):\n",
        "    X = np.empty(len(coef))\n",
        "    X[0] = 1\n",
        "    X[1:] = x\n",
        "    X = np.cumprod(X)\n",
        "    return np.dot(coef,X)"
      ],
      "execution_count": null,
      "outputs": []
    },
    {
      "cell_type": "markdown",
      "metadata": {
        "id": "eSpJYj9q9LKZ"
      },
      "source": [
        "Now we want a *big* list of coefficients to evaluate both functions and a point in which to evaluate the polynomial."
      ]
    },
    {
      "cell_type": "code",
      "metadata": {
        "id": "xrapkf_R9LKc"
      },
      "source": [
        "n_coef = 10000000 # Number of coefficients\n",
        "lower_bound = 1 # Smallest possible coefficient\n",
        "upper_bound = 50 # Biggest possible coefficient \n",
        "sample_coef = np.random.randint(lower_bound, upper_bound, size=n_coef) # Random coefficients between bounds\n",
        "\n",
        "eval_x = 1 # X at which polynomial is evaluated"
      ],
      "execution_count": null,
      "outputs": []
    },
    {
      "cell_type": "markdown",
      "metadata": {
        "id": "R7U6PLit9LKh"
      },
      "source": [
        "In order to mesure time we need to use the [`time` library](https://docs.python.org/dev/library/time.html). For our loop implementation, we do:"
      ]
    },
    {
      "cell_type": "code",
      "metadata": {
        "id": "6XE5xI-N9LKj"
      },
      "source": [
        "import time \n",
        "\n",
        "start = time.time()\n",
        "loop_result = p_loop(eval_x,sample_coef)\n",
        "end = time.time()\n",
        "print(\"Our loop implementation returns as output {} in {} seconds\".format(loop_result,(end - start)))"
      ],
      "execution_count": null,
      "outputs": []
    },
    {
      "cell_type": "markdown",
      "metadata": {
        "id": "d0fR5xAT9LKk"
      },
      "source": [
        "Same idea for the matrix algebra implementation:"
      ]
    },
    {
      "cell_type": "code",
      "metadata": {
        "id": "kZOxZMmV9LKm"
      },
      "source": [
        "start = time.time()\n",
        "ma_result = p_ma(eval_x,sample_coef)\n",
        "end = time.time()\n",
        "print(\"Our matrix algebra implementation returns as output {} in {} seconds\".format(ma_result,(end - start)))"
      ],
      "execution_count": null,
      "outputs": []
    },
    {
      "cell_type": "markdown",
      "metadata": {
        "id": "TymbNaDb9LKn"
      },
      "source": [
        "# Just-in-Time (JIT) compilation\n",
        "There is a lot of material out there about how to code efficientlty (in terms of time performance) in Python. For example, [here](https://lectures.quantecon.org/py/numba.html) you can find some information on how to use the library `Numba` to improve performance. One of the many features of this library is the [Just-in-Time Compilation](https://numba.pydata.org/numba-doc/dev/reference/jit-compilation.html). We can use it to see if we can improve the performance of our functions."
      ]
    },
    {
      "cell_type": "code",
      "metadata": {
        "id": "R17V9QZ_9LKp"
      },
      "source": [
        "from numba import jit\n",
        "\n",
        "p_loop_numba = jit(p_loop)\n",
        "p_ma_numba = jit(p_ma, forceobj=True)"
      ],
      "execution_count": null,
      "outputs": []
    },
    {
      "cell_type": "code",
      "metadata": {
        "id": "XhLjHHIcNW19"
      },
      "source": [
        "start = time.time()\n",
        "loop_result = p_loop_numba(eval_x,sample_coef)\n",
        "end = time.time()\n",
        "print(\"Our JIT loop implementation returns as output {} in {} seconds\".format(loop_result,(end - start)))"
      ],
      "execution_count": null,
      "outputs": []
    },
    {
      "cell_type": "code",
      "metadata": {
        "id": "Y_rgRVi2NvHC"
      },
      "source": [
        "start = time.time()\n",
        "ma_result = p_ma_numba(eval_x,sample_coef)\n",
        "end = time.time()\n",
        "print(\"Our JIT matrix algebra implementation returns as output {} in {} seconds\".format(ma_result,(end - start)))"
      ],
      "execution_count": null,
      "outputs": []
    }
  ]
}