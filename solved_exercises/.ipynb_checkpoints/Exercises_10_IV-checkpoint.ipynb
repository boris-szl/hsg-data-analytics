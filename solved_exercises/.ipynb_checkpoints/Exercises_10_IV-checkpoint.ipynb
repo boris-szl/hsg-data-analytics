{
 "cells": [
  {
   "cell_type": "markdown",
   "metadata": {
    "id": "V_G7eCKB-sdo"
   },
   "source": [
    "# Exercise 1\n",
    "Assume the following parameter values: \n",
    "- $\\alpha$ = 25.0.\n",
    "- $\\beta$ = 1.0.\n",
    "- $\\sigma_u$ = 10.0.\n",
    "- $\\sigma_e$ = 0.1.\n",
    "- $\\gamma$ = 10.0.\n",
    "- $\\rho$ = 0.5.\n",
    "- $z_i$ follows a unifrom distribution between 0.0 and 5.0.\n",
    "\n",
    "Generate a histogram that compares the estimates of $\\beta$ using OLS vs IV. You can use the package [linearmodels](https://pypi.org/project/linearmodels/) to get an implement the IV estimation."
   ]
  },
  {
   "cell_type": "code",
   "execution_count": null,
   "metadata": {
    "colab": {
     "base_uri": "https://localhost:8080/"
    },
    "id": "AdsEdt4K9jZU",
    "outputId": "fc0c4910-246c-4a49-e36a-16f36acee843"
   },
   "outputs": [
    {
     "name": "stdout",
     "output_type": "stream",
     "text": [
      "Collecting linearmodels\n",
      "  Downloading linearmodels-4.25-cp37-cp37m-manylinux_2_17_x86_64.manylinux2014_x86_64.whl (1.5 MB)\n",
      "\u001b[K     |████████████████████████████████| 1.5 MB 5.1 MB/s \n",
      "\u001b[?25hRequirement already satisfied: pandas>=0.24 in /usr/local/lib/python3.7/dist-packages (from linearmodels) (1.1.5)\n",
      "Requirement already satisfied: Cython>=0.29.21 in /usr/local/lib/python3.7/dist-packages (from linearmodels) (0.29.24)\n",
      "Collecting mypy-extensions>=0.4\n",
      "  Downloading mypy_extensions-0.4.3-py2.py3-none-any.whl (4.5 kB)\n",
      "Requirement already satisfied: scipy>=1.2 in /usr/local/lib/python3.7/dist-packages (from linearmodels) (1.4.1)\n",
      "Requirement already satisfied: patsy in /usr/local/lib/python3.7/dist-packages (from linearmodels) (0.5.2)\n",
      "Collecting property-cached>=1.6.3\n",
      "  Downloading property_cached-1.6.4-py2.py3-none-any.whl (7.8 kB)\n",
      "Collecting formulaic\n",
      "  Downloading formulaic-0.2.4-py3-none-any.whl (55 kB)\n",
      "\u001b[K     |████████████████████████████████| 55 kB 2.5 MB/s \n",
      "\u001b[?25hCollecting statsmodels>=0.11\n",
      "  Downloading statsmodels-0.13.1-cp37-cp37m-manylinux_2_17_x86_64.manylinux2014_x86_64.whl (9.8 MB)\n",
      "\u001b[K     |████████████████████████████████| 9.8 MB 44.2 MB/s \n",
      "\u001b[?25hRequirement already satisfied: numpy>=1.16 in /usr/local/lib/python3.7/dist-packages (from linearmodels) (1.19.5)\n",
      "Collecting pyhdfe>=0.1\n",
      "  Downloading pyhdfe-0.1.0-py3-none-any.whl (18 kB)\n",
      "Requirement already satisfied: python-dateutil>=2.7.3 in /usr/local/lib/python3.7/dist-packages (from pandas>=0.24->linearmodels) (2.8.2)\n",
      "Requirement already satisfied: pytz>=2017.2 in /usr/local/lib/python3.7/dist-packages (from pandas>=0.24->linearmodels) (2018.9)\n",
      "Requirement already satisfied: six>=1.5 in /usr/local/lib/python3.7/dist-packages (from python-dateutil>=2.7.3->pandas>=0.24->linearmodels) (1.15.0)\n",
      "Collecting interface-meta>=1.2\n",
      "  Downloading interface_meta-1.2.4-py2.py3-none-any.whl (14 kB)\n",
      "Requirement already satisfied: astor in /usr/local/lib/python3.7/dist-packages (from formulaic->linearmodels) (0.8.1)\n",
      "Requirement already satisfied: wrapt in /usr/local/lib/python3.7/dist-packages (from formulaic->linearmodels) (1.13.3)\n",
      "Installing collected packages: interface-meta, statsmodels, pyhdfe, property-cached, mypy-extensions, formulaic, linearmodels\n",
      "  Attempting uninstall: statsmodels\n",
      "    Found existing installation: statsmodels 0.10.2\n",
      "    Uninstalling statsmodels-0.10.2:\n",
      "      Successfully uninstalled statsmodels-0.10.2\n",
      "Successfully installed formulaic-0.2.4 interface-meta-1.2.4 linearmodels-4.25 mypy-extensions-0.4.3 property-cached-1.6.4 pyhdfe-0.1.0 statsmodels-0.13.1\n"
     ]
    }
   ],
   "source": [
    "!pip install linearmodels"
   ]
  },
  {
   "cell_type": "code",
   "execution_count": null,
   "metadata": {
    "id": "kmShfq-H-sdz"
   },
   "outputs": [],
   "source": [
    "import pandas as pd\n",
    "import numpy as np\n",
    "import matplotlib\n",
    "import matplotlib.pyplot as plt\n",
    "import statsmodels.api as sm\n",
    "from linearmodels.iv import IV2SLS\n",
    "matplotlib.rcParams['figure.figsize'] = [12.0,6.0] # Modifies the defult size of plots [6.0,4.0] inches"
   ]
  },
  {
   "cell_type": "code",
   "execution_count": null,
   "metadata": {
    "id": "6DsoJebc-sd1"
   },
   "outputs": [],
   "source": [
    "# Define parameters\n",
    "α = 25.0\n",
    "β = 0.0\n",
    "σ_u = 10.0\n",
    "σ_e = 0.1\n",
    "γ = 10.0\n",
    "ρ = 0.5\n",
    "z_min = 0.0\n",
    "z_max = 5.0\n",
    "Nobs = 5000 # Number of observations every time we estimate beta\n",
    "Nsim = 1000 # Number of times we estimate beta\n",
    "\n",
    "# Store results\n",
    "β_OLS = []\n",
    "β_IV = []\n",
    "\n",
    "for sim in range(Nsim):\n",
    "    # Create Dataframe\n",
    "    u = pd.Series(np.random.normal(0.0, σ_u, Nobs))\n",
    "    e = pd.Series(np.random.normal(0.0, σ_e, Nobs))\n",
    "    z = pd.Series(np.random.uniform(z_min, z_max, Nobs))\n",
    "\n",
    "    df = pd.DataFrame({\n",
    "    'u': u,\n",
    "    'e': e,\n",
    "    'z': z\n",
    "    })\n",
    "    df['x'] = γ*df['z'] + ρ*df['u'] + df['e']\n",
    "    df['y'] = α + β*df['x'] + df['u']\n",
    "    df['constant'] = 1\n",
    "    \n",
    "    # Define model OLS\n",
    "    MyModel = sm.OLS(endog = df['y'], \n",
    "                     exog = df[['constant', 'x']])\n",
    "    \n",
    "    # Safe estimate\n",
    "    results = MyModel.fit()\n",
    "    β_OLS.append(results.params[1])\n",
    "    \n",
    "    # Define IV model\n",
    "    iv = IV2SLS(dependent=df['y'],\n",
    "            exog=df['constant'],\n",
    "            endog=df['x'],\n",
    "            instruments=df['z']).fit(cov_type='unadjusted')\n",
    "    β_IV.append(iv.params[1])\n",
    "\n",
    "# Convert list to series\n",
    "β_OLS = pd.Series(β_OLS)\n",
    "β_IV = pd.Series(β_IV)"
   ]
  },
  {
   "cell_type": "code",
   "execution_count": null,
   "metadata": {
    "colab": {
     "base_uri": "https://localhost:8080/",
     "height": 374
    },
    "id": "edNIOgrS-sd2",
    "outputId": "ffacef1d-3730-4bfc-ef16-bb1fc5a401ec"
   },
   "outputs": [
    {
     "data": {
      "image/png": "[encoded data removed]",
      "text/plain": [
       "<Figure size 864x432 with 1 Axes>"
      ]
     },
     "metadata": {
      "needs_background": "light"
     },
     "output_type": "display_data"
    }
   ],
   "source": [
    "β_OLS.hist(bins=50)\n",
    "β_IV.hist(bins=50)\n",
    "plt.legend(['OLS','IV'])\n",
    "plt.show()"
   ]
  },
  {
   "cell_type": "markdown",
   "metadata": {
    "id": "sPpBMOyV-sd3"
   },
   "source": [
    "# Exercise 2\n",
    "Load data from Acemoglu, Johnson, and Robinson (AER-2001) and use their instrument to estimate the relationship between GDP per capita and institutions. Do not forget to restrict the sample to countries with full information."
   ]
  },
  {
   "cell_type": "code",
   "execution_count": null,
   "metadata": {
    "id": "0vNcQrMcAPZW"
   },
   "outputs": [],
   "source": [
    "from google.colab import drive\n",
    "drive.mount('/content/drive')"
   ]
  },
  {
   "cell_type": "code",
   "execution_count": null,
   "metadata": {
    "id": "lazrDmL8APMU"
   },
   "outputs": [],
   "source": [
    "MyFolder = '/content/drive/My Drive/Colab Notebooks/2021_2022_Programming_for_Statistical_Analysis/'\n",
    "MyFile = MyFolder + 'DataIV_AJR_2001.dta' "
   ]
  },
  {
   "cell_type": "code",
   "execution_count": null,
   "metadata": {
    "id": "81otYkSx-sd5"
   },
   "outputs": [],
   "source": [
    "# Load data\n",
    "dfAJR = pd.read_stata(MyFile)\n",
    "\n",
    "# Set proper index (Country abbreviation)\n",
    "dfAJR.index = dfAJR['shortnam']\n",
    "dfAJR = dfAJR.drop(columns = ['shortnam'])\n",
    "\n",
    "# Keep only observations with all data\n",
    "dfAJR = dfAJR[dfAJR['baseco'] == 1]\n",
    "dfAJR"
   ]
  },
  {
   "cell_type": "code",
   "execution_count": null,
   "metadata": {
    "id": "_-DygpuV-sd6"
   },
   "outputs": [],
   "source": [
    "# Create constant\n",
    "dfAJR['constant'] = 1\n",
    "\n",
    "iv = IV2SLS(dependent=dfAJR['logpgp95'],\n",
    "            exog=dfAJR['constant'],\n",
    "            endog=dfAJR['avexpr'],\n",
    "            instruments=dfAJR['logem4']).fit(cov_type='unadjusted')\n",
    "\n",
    "print(iv.summary)"
   ]
  }
 ],
 "metadata": {
  "@webio": {
   "lastCommId": null,
   "lastKernelId": null
  },
  "colab": {
   "collapsed_sections": [],
   "name": "Exercises 10: IV",
   "provenance": []
  },
  "kernelspec": {
   "display_name": "Python 3 (ipykernel)",
   "language": "python",
   "name": "python3"
  },
  "language_info": {
   "codemirror_mode": {
    "name": "ipython",
    "version": 3
   },
   "file_extension": ".py",
   "mimetype": "text/x-python",
   "name": "python",
   "nbconvert_exporter": "python",
   "pygments_lexer": "ipython3",
   "version": "3.8.8"
  }
 },
 "nbformat": 4,
 "nbformat_minor": 4
}
