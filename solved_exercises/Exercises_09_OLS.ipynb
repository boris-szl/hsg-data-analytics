{
  "nbformat": 4,
  "nbformat_minor": 0,
  "metadata": {
    "@webio": {
      "lastCommId": null,
      "lastKernelId": null
    },
    "kernelspec": {
      "display_name": "Python 3",
      "language": "python",
      "name": "python3"
    },
    "language_info": {
      "codemirror_mode": {
        "name": "ipython",
        "version": 3
      },
      "file_extension": ".py",
      "mimetype": "text/x-python",
      "name": "python",
      "nbconvert_exporter": "python",
      "pygments_lexer": "ipython3",
      "version": "3.6.9"
    },
    "colab": {
      "name": "Exercises 09: OLS",
      "provenance": [],
      "collapsed_sections": []
    }
  },
  "cells": [
    {
      "cell_type": "markdown",
      "metadata": {
        "id": "Rq88M7XQ-TVA"
      },
      "source": [
        "# Exercise 1\n",
        "Assume that: \n",
        "- $\\mu^{\\text{blue}}_m$ = 25.0. \n",
        "- $\\sigma^{\\text{blue}}_m$ = 3.0.\n",
        "- $\\mu^{\\text{blue}}_s$ = 5.0. \n",
        "- $\\sigma^{\\text{blue}}_s$ = 5.0. \n",
        "- $\\mu^{\\text{red}}_m$ = 30.0. \n",
        "- $\\sigma^{\\text{red}}_m$ = 3.0. \n",
        "- $\\mu^{\\text{red}}_s$ = 3.5. \n",
        "- $\\sigma^{\\text{red}}_s$ = 2.5. \n",
        "- $\\sigma_u$ = 0.5.\n",
        "- $\\bar{p}$ = 155.\n",
        "- $p_m$ = 13.5.\n",
        "- $p_s$ = 6.5.\n",
        "\n",
        "With these parameter values:\n",
        "1. Create a Dataframe that contains all synthetic data.\n",
        "2. Plot histograms for each variable/type.\n",
        "3. Plot correlation between wages and its determinants."
      ]
    },
    {
      "cell_type": "code",
      "metadata": {
        "id": "UF4zqgAH-TVH"
      },
      "source": [
        "import pandas as pd\n",
        "import numpy as np\n",
        "import matplotlib\n",
        "import matplotlib.pyplot as plt\n",
        "matplotlib.rcParams['figure.figsize'] = [12.0,6.0] # Modifies the defult size of plots [6.0,4.0] inches"
      ],
      "execution_count": null,
      "outputs": []
    },
    {
      "cell_type": "code",
      "metadata": {
        "id": "knDhoMVJ-TVJ"
      },
      "source": [
        "# Define parameters\n",
        "mu_m_b = 25\n",
        "sigma_m_b = 3.0\n",
        "mu_s_b = 5.0\n",
        "sigma_s_b = 5.0\n",
        "mu_m_r = 30.0\n",
        "sigma_m_r = 3.0\n",
        "mu_s_r = 3.5\n",
        "sigma_s_r = 2.5\n",
        "sigma_u = 0.5\n",
        "p_bar = 155\n",
        "p_m = 13.5\n",
        "p_s = 6.5\n",
        "N = 5000\n",
        "\n",
        "\n",
        "# Create Dataframe for blues\n",
        "m_b = pd.Series(np.random.normal(mu_m_b, sigma_m_b, N), name = 'Memory')\n",
        "s_b = pd.Series(np.random.normal(mu_s_b, sigma_s_b, N), name = 'Speed')\n",
        "u_b = pd.Series(np.random.normal(0, sigma_u, N), name = 'Match Quality')\n",
        "dfblue = pd.DataFrame({\n",
        "    'Memory': m_b,\n",
        "    'Speed': s_b,\n",
        "    'Match Quality': u_b,\n",
        "    'Type': 0,\n",
        "    'Type Name': 'Blue'\n",
        "})\n",
        "\n",
        "# Create Dataframe for reds\n",
        "m_r = pd.Series(np.random.normal(mu_m_r, sigma_m_r, N), name = 'Memory')\n",
        "s_r = pd.Series(np.random.normal(mu_s_r, sigma_s_r, N), name = 'Speed')\n",
        "u_r = pd.Series(np.random.normal(0, sigma_u, N), name = 'Match Quality')\n",
        "dfred = pd.DataFrame({\n",
        "    'Memory': m_r,\n",
        "    'Speed': s_r,\n",
        "    'Match Quality': u_r,\n",
        "    'Type': 1,\n",
        "    'Type Name': 'Red'\n",
        "})\n",
        "\n",
        "# Concatenate Dataframes\n",
        "df = pd.concat([dfblue, dfred], ignore_index=True)\n",
        "df['Wage'] = p_bar + p_m*df['Memory'] + p_s*df['Speed'] + df['Match Quality']\n",
        "df"
      ],
      "execution_count": null,
      "outputs": []
    },
    {
      "cell_type": "code",
      "metadata": {
        "id": "q6vgS9IY-TVJ"
      },
      "source": [
        "# Plot Memory histogram\n",
        "df.hist(column = 'Memory', by = 'Type Name', bins = 100)\n",
        "plt.show()"
      ],
      "execution_count": null,
      "outputs": []
    },
    {
      "cell_type": "code",
      "metadata": {
        "id": "c_drlkG5-TVK"
      },
      "source": [
        "# Plot Speed histogram\n",
        "df.hist(column = 'Speed', by = 'Type Name', bins = 100)\n",
        "plt.show()"
      ],
      "execution_count": null,
      "outputs": []
    },
    {
      "cell_type": "code",
      "metadata": {
        "id": "bSQAqZq8-TVV"
      },
      "source": [
        "# Plot Wage histogram\n",
        "df.hist(column = 'Wage', by = 'Type Name', bins = 100)\n",
        "plt.show()"
      ],
      "execution_count": null,
      "outputs": []
    },
    {
      "cell_type": "code",
      "metadata": {
        "id": "IGE5W7rF-TVW"
      },
      "source": [
        "# Correlation between Memory and Wage\n",
        "x = df['Memory']\n",
        "y = df['Wage']\n",
        "df.plot(x = 'Memory', y = 'Wage', kind = 'scatter')\n",
        "z = np.polyfit(x, y, 1)\n",
        "p = np.poly1d(z)\n",
        "plt.plot(x, p(x),\"r--\")\n",
        "plt.show()"
      ],
      "execution_count": null,
      "outputs": []
    },
    {
      "cell_type": "code",
      "metadata": {
        "id": "T7Jnf9vq-TVW"
      },
      "source": [
        "# Correlation between Speed and Wage\n",
        "x = df['Speed']\n",
        "y = df['Wage']\n",
        "df.plot(x = 'Speed', y = 'Wage', kind = 'scatter')\n",
        "z = np.polyfit(x, y, 1)\n",
        "p = np.poly1d(z)\n",
        "plt.plot(x, p(x),\"r--\")\n",
        "plt.show()"
      ],
      "execution_count": null,
      "outputs": []
    },
    {
      "cell_type": "code",
      "metadata": {
        "id": "volCK8UI-TVX"
      },
      "source": [
        "# Correlation between Quality Match and Wage\n",
        "x = df['Match Quality']\n",
        "y = df['Wage']\n",
        "df.plot(x = 'Match Quality', y = 'Wage', kind = 'scatter')\n",
        "z = np.polyfit(x, y, 1)\n",
        "p = np.poly1d(z)\n",
        "plt.plot(x, p(x),\"r--\")\n",
        "plt.show()"
      ],
      "execution_count": null,
      "outputs": []
    },
    {
      "cell_type": "markdown",
      "metadata": {
        "id": "KGKPnLuP-TVY"
      },
      "source": [
        "# Exercise 2\n",
        "Use the module [statsmodel](https://www.statsmodels.org/stable/index.html) to estimate the prices."
      ]
    },
    {
      "cell_type": "code",
      "metadata": {
        "id": "RNppoPZ0-TVZ"
      },
      "source": [
        "import statsmodels.api as sm\n",
        "\n",
        "# Create constant\n",
        "df['constant'] = 1\n",
        "\n",
        "# Define model\n",
        "MyModel = sm.OLS(endog = df['Wage'], \n",
        "                 exog = df[['constant', 'Memory', 'Speed']])\n",
        "\n",
        "# Print results\n",
        "results = MyModel.fit()\n",
        "print(results.summary())"
      ],
      "execution_count": null,
      "outputs": []
    },
    {
      "cell_type": "markdown",
      "metadata": {
        "id": "6ahYMyNR-TVa"
      },
      "source": [
        "# Exercise 3\n",
        "Unconditional differences in wages between groups."
      ]
    },
    {
      "cell_type": "code",
      "metadata": {
        "id": "4BvWi2bB-TVb"
      },
      "source": [
        "df[['Wage', 'Type Name']].groupby('Type Name').describe()"
      ],
      "execution_count": null,
      "outputs": []
    },
    {
      "cell_type": "markdown",
      "metadata": {
        "id": "gUvJkH1Q-TVb"
      },
      "source": [
        "Model with omitted variables."
      ]
    },
    {
      "cell_type": "code",
      "metadata": {
        "id": "_XC1D8DR-TVc"
      },
      "source": [
        "# Define model\n",
        "Omitted = sm.OLS(endog = df['Wage'], \n",
        "                 exog = df[['constant', 'Memory', 'Type']])\n",
        "\n",
        "# Print results\n",
        "results = Omitted.fit()\n",
        "print(results.summary())"
      ],
      "execution_count": null,
      "outputs": []
    },
    {
      "cell_type": "markdown",
      "metadata": {
        "id": "ED6CiOmR-TVc"
      },
      "source": [
        "# Exercise 4\n",
        "Load data from Acemoglu, Johnson, and Robinson (AER-2001) and:\n",
        "1. Bar plot their GDP measure (`logpgp95`) and their measure of instiutional quality (`avexpr`).\n",
        "2. Ilustrate the correlation between these two variables."
      ]
    },
    {
      "cell_type": "code",
      "metadata": {
        "id": "F75I5GLC_jcK"
      },
      "source": [
        "from google.colab import drive\n",
        "drive.mount('/content/drive')"
      ],
      "execution_count": null,
      "outputs": []
    },
    {
      "cell_type": "code",
      "metadata": {
        "id": "gjZse65m_jNP"
      },
      "source": [
        "MyFolder = '/content/drive/My Drive/Colab Notebooks/2021_2022_Programming_for_Statistical_Analysis/'\n",
        "MyFile = MyFolder + 'Data_AJR_2001.dta' "
      ],
      "execution_count": null,
      "outputs": []
    },
    {
      "cell_type": "code",
      "metadata": {
        "id": "qPqid7f0-TVd"
      },
      "source": [
        "# Load data\n",
        "dfAJR = pd.read_stata(MyFile)\n",
        " \n",
        "# Set proper index (Country abbreviation)\n",
        "dfAJR.index = dfAJR['shortnam']\n",
        "dfAJR = dfAJR.drop(columns = ['shortnam'])\n",
        "dfAJR"
      ],
      "execution_count": null,
      "outputs": []
    },
    {
      "cell_type": "code",
      "metadata": {
        "id": "FQBB1Usa-TVe"
      },
      "source": [
        "# Bar plot a sample of N countries\n",
        "N = 25\n",
        "aux_dfAJR = dfAJR.sample(n = N, random_state = 1)\n",
        "\n",
        "\n",
        "# Bar plot GDP\n",
        "aux_dfAJR.sort_values('logpgp95', ascending=False)['logpgp95'].dropna().plot(kind='bar')\n",
        "plt.ylabel('Log of per capita GPD in 1995')\n",
        "plt.xlabel('Countries')\n",
        "plt.title('Sample of {} Countries'.format(N))\n",
        "plt.show()"
      ],
      "execution_count": null,
      "outputs": []
    },
    {
      "cell_type": "code",
      "metadata": {
        "id": "RAp7YiLr-TVe"
      },
      "source": [
        "# Bar plot Expropiation Index\n",
        "aux_dfAJR.sort_values('avexpr', ascending=False)['avexpr'].dropna().plot(kind='bar')\n",
        "plt.ylabel('Index of protection against expropiation (Average 1985-95)')\n",
        "plt.xlabel('Countries')\n",
        "plt.title('Sample of {} Countries'.format(N))\n",
        "plt.show()"
      ],
      "execution_count": null,
      "outputs": []
    },
    {
      "cell_type": "code",
      "metadata": {
        "id": "Za6ED1I0-TVe"
      },
      "source": [
        "# Correlation between GDP and Expropiation Index\n",
        "aux_dfAJR = dfAJR.dropna(subset=['logpgp95', 'avexpr'])\n",
        "x = aux_dfAJR['avexpr']\n",
        "y = aux_dfAJR['logpgp95']\n",
        "aux_dfAJR.plot(x = 'avexpr', y = 'logpgp95', kind = 'scatter')\n",
        "z = np.polyfit(x, y, 1)\n",
        "p = np.poly1d(z)\n",
        "plt.plot(x, p(x),\"r--\")\n",
        "plt.xlabel('Index of protection against expropiation (Average 1985-95)')\n",
        "plt.ylabel('Log of per capita GPD in 1995')\n",
        "plt.show()"
      ],
      "execution_count": null,
      "outputs": []
    },
    {
      "cell_type": "code",
      "metadata": {
        "id": "hu4nC6mo-TVf"
      },
      "source": [
        "# Create constant\n",
        "dfAJR['constant'] = 1\n",
        "\n",
        "# Define model\n",
        "MyModel = sm.OLS(endog = dfAJR['logpgp95'], \n",
        "                 exog = dfAJR[['constant', 'avexpr']], missing = 'drop')\n",
        "\n",
        "# Print results\n",
        "results = MyModel.fit()\n",
        "print(results.summary())"
      ],
      "execution_count": null,
      "outputs": []
    }
  ]
}