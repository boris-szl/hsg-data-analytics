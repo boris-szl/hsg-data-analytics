{
 "cells": [
  {
   "cell_type": "markdown",
   "id": "999fd920-e59b-42e3-8c65-54c5a4e3f278",
   "metadata": {},
   "source": [
    "# Exam HS20"
   ]
  },
  {
   "cell_type": "markdown",
   "id": "0acc4a11-296f-46fb-b61d-84ff82dcb37e",
   "metadata": {},
   "source": [
    "## Import Modules"
   ]
  },
  {
   "cell_type": "code",
   "execution_count": 3,
   "id": "84cd1fb5-1d61-4470-babc-5c29bf3b83c6",
   "metadata": {},
   "outputs": [],
   "source": [
    "import numpy as np\n",
    "import pandas as pd\n",
    "import statsmodels.api as sm\n",
    "import math\n",
    "import matplotlib.pyplot as plt"
   ]
  },
  {
   "cell_type": "markdown",
   "id": "e8f22732-e2dd-4b92-ab8e-6b85d5fb83e6",
   "metadata": {},
   "source": [
    "## Task 1"
   ]
  },
  {
   "attachments": {
    "d42c8ad6-12f0-4997-b106-b14e77beab3a.png": {
     "image/png": "[encoded data removed]"
    }
   },
   "cell_type": "markdown",
   "id": "04bc51c7-2d86-49b6-9339-35b0517a57f5",
   "metadata": {},
   "source": [
    "![image.png](attachment:d42c8ad6-12f0-4997-b106-b14e77beab3a.png)"
   ]
  },
  {
   "cell_type": "code",
   "execution_count": 4,
   "id": "44068af9-ddb0-41b2-be54-479362909056",
   "metadata": {},
   "outputs": [
    {
     "data": {
      "text/html": [
       "<div>\n",
       "<style scoped>\n",
       "    .dataframe tbody tr th:only-of-type {\n",
       "        vertical-align: middle;\n",
       "    }\n",
       "\n",
       "    .dataframe tbody tr th {\n",
       "        vertical-align: top;\n",
       "    }\n",
       "\n",
       "    .dataframe thead th {\n",
       "        text-align: right;\n",
       "    }\n",
       "</style>\n",
       "<table border=\"1\" class=\"dataframe\">\n",
       "  <thead>\n",
       "    <tr style=\"text-align: right;\">\n",
       "      <th></th>\n",
       "      <th>State</th>\n",
       "      <th>FTE</th>\n",
       "      <th>PTE</th>\n",
       "      <th>Wage</th>\n",
       "      <th>Year</th>\n",
       "    </tr>\n",
       "  </thead>\n",
       "  <tbody>\n",
       "    <tr>\n",
       "      <th>count</th>\n",
       "      <td>716.000000</td>\n",
       "      <td>716.000000</td>\n",
       "      <td>716.000000</td>\n",
       "      <td>716.000000</td>\n",
       "      <td>716.00000</td>\n",
       "    </tr>\n",
       "    <tr>\n",
       "      <th>mean</th>\n",
       "      <td>0.812849</td>\n",
       "      <td>8.418296</td>\n",
       "      <td>18.721369</td>\n",
       "      <td>4.805782</td>\n",
       "      <td>1992.50000</td>\n",
       "    </tr>\n",
       "    <tr>\n",
       "      <th>std</th>\n",
       "      <td>0.390305</td>\n",
       "      <td>8.260105</td>\n",
       "      <td>10.424934</td>\n",
       "      <td>0.358314</td>\n",
       "      <td>0.50035</td>\n",
       "    </tr>\n",
       "    <tr>\n",
       "      <th>min</th>\n",
       "      <td>0.000000</td>\n",
       "      <td>0.000000</td>\n",
       "      <td>0.000000</td>\n",
       "      <td>4.250000</td>\n",
       "      <td>1992.00000</td>\n",
       "    </tr>\n",
       "    <tr>\n",
       "      <th>25%</th>\n",
       "      <td>1.000000</td>\n",
       "      <td>2.000000</td>\n",
       "      <td>11.000000</td>\n",
       "      <td>4.500000</td>\n",
       "      <td>1992.00000</td>\n",
       "    </tr>\n",
       "    <tr>\n",
       "      <th>50%</th>\n",
       "      <td>1.000000</td>\n",
       "      <td>6.000000</td>\n",
       "      <td>16.750000</td>\n",
       "      <td>5.000000</td>\n",
       "      <td>1992.50000</td>\n",
       "    </tr>\n",
       "    <tr>\n",
       "      <th>75%</th>\n",
       "      <td>1.000000</td>\n",
       "      <td>12.000000</td>\n",
       "      <td>25.000000</td>\n",
       "      <td>5.050000</td>\n",
       "      <td>1993.00000</td>\n",
       "    </tr>\n",
       "    <tr>\n",
       "      <th>max</th>\n",
       "      <td>1.000000</td>\n",
       "      <td>60.000000</td>\n",
       "      <td>60.000000</td>\n",
       "      <td>6.250000</td>\n",
       "      <td>1993.00000</td>\n",
       "    </tr>\n",
       "  </tbody>\n",
       "</table>\n",
       "</div>"
      ],
      "text/plain": [
       "            State         FTE         PTE        Wage        Year\n",
       "count  716.000000  716.000000  716.000000  716.000000   716.00000\n",
       "mean     0.812849    8.418296   18.721369    4.805782  1992.50000\n",
       "std      0.390305    8.260105   10.424934    0.358314     0.50035\n",
       "min      0.000000    0.000000    0.000000    4.250000  1992.00000\n",
       "25%      1.000000    2.000000   11.000000    4.500000  1992.00000\n",
       "50%      1.000000    6.000000   16.750000    5.000000  1992.50000\n",
       "75%      1.000000   12.000000   25.000000    5.050000  1993.00000\n",
       "max      1.000000   60.000000   60.000000    6.250000  1993.00000"
      ]
     },
     "execution_count": 4,
     "metadata": {},
     "output_type": "execute_result"
    }
   ],
   "source": [
    "file = \"CardKrueger.csv\"\n",
    "df = pd.read_csv(file)\n",
    "df.describe()"
   ]
  },
  {
   "cell_type": "code",
   "execution_count": null,
   "id": "b41de56e-2b7f-49ea-9455-626f1b2712d4",
   "metadata": {},
   "outputs": [],
   "source": []
  }
 ],
 "metadata": {
  "kernelspec": {
   "display_name": "Python 3",
   "language": "python",
   "name": "python3"
  },
  "language_info": {
   "codemirror_mode": {
    "name": "ipython",
    "version": 3
   },
   "file_extension": ".py",
   "mimetype": "text/x-python",
   "name": "python",
   "nbconvert_exporter": "python",
   "pygments_lexer": "ipython3",
   "version": "3.8.8"
  }
 },
 "nbformat": 4,
 "nbformat_minor": 5
}
