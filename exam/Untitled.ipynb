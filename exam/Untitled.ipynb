{
 "cells": [
  {
   "cell_type": "code",
   "execution_count": 1,
   "id": "6229bb34-4f80-454b-b064-153da2125035",
   "metadata": {},
   "outputs": [],
   "source": [
    "import pandas as pd\n",
    "import numpy as np\n",
    "import matplotlib.pyplot as plt\n",
    "import seaborn as sns"
   ]
  },
  {
   "cell_type": "code",
   "execution_count": 7,
   "id": "b6c60798-44fb-49ed-9479-f66f853fd7c2",
   "metadata": {},
   "outputs": [],
   "source": [
    "array_1 = np.array([1,2,3,4])\n",
    "matrix_1 = np.matrix([[\"a00\",\"a10\"],[\"a01\",\"a11\"]])"
   ]
  },
  {
   "cell_type": "code",
   "execution_count": 8,
   "id": "333170a6-bd08-44e4-a014-4ef993b1dcab",
   "metadata": {},
   "outputs": [
    {
     "data": {
      "text/plain": [
       "matrix([['a00', 'a10'],\n",
       "        ['a01', 'a11']], dtype='<U3')"
      ]
     },
     "execution_count": 8,
     "metadata": {},
     "output_type": "execute_result"
    }
   ],
   "source": [
    "matrix_1"
   ]
  },
  {
   "cell_type": "code",
   "execution_count": 9,
   "id": "64861793-d764-4232-98f6-14fbf128a562",
   "metadata": {},
   "outputs": [
    {
     "data": {
      "text/plain": [
       "matrix([['a00', 'a01'],\n",
       "        ['a10', 'a11']], dtype='<U3')"
      ]
     },
     "execution_count": 9,
     "metadata": {},
     "output_type": "execute_result"
    }
   ],
   "source": [
    "matrix_1.transpose()"
   ]
  },
  {
   "cell_type": "code",
   "execution_count": null,
   "id": "61b93f8f-7705-4734-b316-31bb9945ca9f",
   "metadata": {},
   "outputs": [],
   "source": []
  }
 ],
 "metadata": {
  "kernelspec": {
   "display_name": "Python 3",
   "language": "python",
   "name": "python3"
  },
  "language_info": {
   "codemirror_mode": {
    "name": "ipython",
    "version": 3
   },
   "file_extension": ".py",
   "mimetype": "text/x-python",
   "name": "python",
   "nbconvert_exporter": "python",
   "pygments_lexer": "ipython3",
   "version": "3.8.8"
  }
 },
 "nbformat": 4,
 "nbformat_minor": 5
}
