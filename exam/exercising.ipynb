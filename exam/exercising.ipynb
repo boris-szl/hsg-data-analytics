{
 "cells": [
  {
   "cell_type": "code",
   "execution_count": 1,
   "id": "e06a27af-deb9-4bc9-b11d-ad18299e7454",
   "metadata": {},
   "outputs": [],
   "source": [
    "import pandas as pd\n",
    "import numpy as np\n",
    "import statsmodels.api as sm\n",
    "import matplotlib.pyplot as plt\n",
    "from scipy import stats\n",
    "\n",
    "%matplotlib inline"
   ]
  },
  {
   "cell_type": "code",
   "execution_count": 2,
   "id": "1cc5ffb8-6ea3-4da4-860b-59614195107b",
   "metadata": {},
   "outputs": [
    {
     "data": {
      "text/html": [
       "<div>\n",
       "<style scoped>\n",
       "    .dataframe tbody tr th:only-of-type {\n",
       "        vertical-align: middle;\n",
       "    }\n",
       "\n",
       "    .dataframe tbody tr th {\n",
       "        vertical-align: top;\n",
       "    }\n",
       "\n",
       "    .dataframe thead th {\n",
       "        text-align: right;\n",
       "    }\n",
       "</style>\n",
       "<table border=\"1\" class=\"dataframe\">\n",
       "  <thead>\n",
       "    <tr style=\"text-align: right;\">\n",
       "      <th></th>\n",
       "      <th>A</th>\n",
       "    </tr>\n",
       "  </thead>\n",
       "  <tbody>\n",
       "    <tr>\n",
       "      <th>0</th>\n",
       "      <td>1</td>\n",
       "    </tr>\n",
       "    <tr>\n",
       "      <th>1</th>\n",
       "      <td>2</td>\n",
       "    </tr>\n",
       "    <tr>\n",
       "      <th>2</th>\n",
       "      <td>3</td>\n",
       "    </tr>\n",
       "    <tr>\n",
       "      <th>3</th>\n",
       "      <td>4</td>\n",
       "    </tr>\n",
       "    <tr>\n",
       "      <th>4</th>\n",
       "      <td>5</td>\n",
       "    </tr>\n",
       "  </tbody>\n",
       "</table>\n",
       "</div>"
      ],
      "text/plain": [
       "   A\n",
       "0  1\n",
       "1  2\n",
       "2  3\n",
       "3  4\n",
       "4  5"
      ]
     },
     "execution_count": 2,
     "metadata": {},
     "output_type": "execute_result"
    }
   ],
   "source": [
    "df_test = pd.DataFrame({\n",
    "    \"A\":[1,2,3,4,5]\n",
    "})\n",
    "df_test"
   ]
  },
  {
   "cell_type": "code",
   "execution_count": 3,
   "id": "6f1df4a2-5377-478e-988b-bdf14786a525",
   "metadata": {},
   "outputs": [],
   "source": [
    "list_size_odd = [1,2,3,4,5]\n",
    "list_size_even = [1,2,3,4,5]"
   ]
  },
  {
   "cell_type": "code",
   "execution_count": 4,
   "id": "b80a9c83-67a2-409b-9390-447bfdf9e003",
   "metadata": {},
   "outputs": [],
   "source": [
    "np.random.seed(0);\n",
    "# np random integers between [a,b] with size=n\n",
    "np.random.randint(1,10,10) \n",
    "x_even = list(np.random.randint(1,10,11))\n",
    "x_odd = x_even[0:len(x_even)-1]"
   ]
  },
  {
   "cell_type": "code",
   "execution_count": 5,
   "id": "6fd52334-4df2-48bb-a670-50580d0b4005",
   "metadata": {},
   "outputs": [
    {
     "data": {
      "text/plain": [
       "[7, 9, 9, 2, 7, 8, 8, 9, 2, 6, 9]"
      ]
     },
     "execution_count": 5,
     "metadata": {},
     "output_type": "execute_result"
    }
   ],
   "source": [
    "x_even"
   ]
  },
  {
   "cell_type": "code",
   "execution_count": 43,
   "id": "6abab237-a543-424f-921b-cebfb7c68c19",
   "metadata": {},
   "outputs": [
    {
     "data": {
      "text/plain": [
       "[2, 2, 6, 7, 7, 8, 8, 9, 9, 9]"
      ]
     },
     "execution_count": 43,
     "metadata": {},
     "output_type": "execute_result"
    }
   ],
   "source": [
    "x_odd"
   ]
  },
  {
   "cell_type": "code",
   "execution_count": 57,
   "id": "1337dd2e-1bef-4d75-ba6d-56f30af8971b",
   "metadata": {},
   "outputs": [
    {
     "data": {
      "text/plain": [
       "8"
      ]
     },
     "execution_count": 57,
     "metadata": {},
     "output_type": "execute_result"
    }
   ],
   "source": [
    "len(x_odd)-1\n",
    "int((9+1)/2)\n",
    "x_odd[5]"
   ]
  },
  {
   "cell_type": "code",
   "execution_count": 82,
   "id": "c077a73d-4e6c-45d7-af30-c1befa918281",
   "metadata": {},
   "outputs": [
    {
     "data": {
      "text/plain": [
       "7.5"
      ]
     },
     "execution_count": 82,
     "metadata": {},
     "output_type": "execute_result"
    }
   ],
   "source": [
    "n = len(x_odd)\n",
    "1/2*(x_odd[int(n/2)] + x_odd[int(n/(2+1))])"
   ]
  },
  {
   "cell_type": "code",
   "execution_count": 53,
   "id": "66af122d-f4d4-4b9c-a83e-da533678cda8",
   "metadata": {},
   "outputs": [
    {
     "data": {
      "text/plain": [
       "8.0"
      ]
     },
     "execution_count": 53,
     "metadata": {},
     "output_type": "execute_result"
    }
   ],
   "source": [
    "np.median(x_even)"
   ]
  },
  {
   "cell_type": "code",
   "execution_count": 54,
   "id": "e364ef57-d0ab-401f-bb2e-be566c67ad25",
   "metadata": {},
   "outputs": [
    {
     "data": {
      "text/plain": [
       "7.5"
      ]
     },
     "execution_count": 54,
     "metadata": {},
     "output_type": "execute_result"
    }
   ],
   "source": [
    "np.median(x_odd)"
   ]
  },
  {
   "cell_type": "code",
   "execution_count": 86,
   "id": "cd6f06e3-3592-40f8-8871-22a371603321",
   "metadata": {},
   "outputs": [],
   "source": [
    "def median(data):\n",
    "    data.sort()\n",
    "    size_n = len(data)\n",
    "    if ((size_n % 2) == 0):\n",
    "        n = size_n\n",
    "        median = 1/2*(data[int(n/2)] + data[int(n/(2+1))])\n",
    "    else:\n",
    "        median = data[int((size_n+1)/2)]\n",
    "    return median"
   ]
  },
  {
   "cell_type": "code",
   "execution_count": 87,
   "id": "2292d902-dce5-4bc0-95d9-ca1a2624e871",
   "metadata": {},
   "outputs": [
    {
     "data": {
      "text/plain": [
       "8"
      ]
     },
     "execution_count": 87,
     "metadata": {},
     "output_type": "execute_result"
    }
   ],
   "source": [
    "median(x_even)"
   ]
  },
  {
   "cell_type": "code",
   "execution_count": 90,
   "id": "2f248bcf-1f48-488f-9477-272f2ef6fa20",
   "metadata": {},
   "outputs": [
    {
     "data": {
      "text/plain": [
       "10"
      ]
     },
     "execution_count": 90,
     "metadata": {},
     "output_type": "execute_result"
    }
   ],
   "source": [
    "len(x_odd)"
   ]
  },
  {
   "cell_type": "code",
   "execution_count": 92,
   "id": "b2c4eac4-3332-4ce2-9e5a-1359324f6c42",
   "metadata": {},
   "outputs": [
    {
     "data": {
      "text/plain": [
       "7.5"
      ]
     },
     "execution_count": 92,
     "metadata": {},
     "output_type": "execute_result"
    }
   ],
   "source": [
    "median(x_odd)"
   ]
  },
  {
   "cell_type": "code",
   "execution_count": 29,
   "id": "2e2410cc-ce4c-4652-be64-5a17aa67b4b5",
   "metadata": {},
   "outputs": [
    {
     "data": {
      "text/plain": [
       "array([2, 2, 6, 7, 7, 8, 8, 9, 9, 9, 9])"
      ]
     },
     "execution_count": 29,
     "metadata": {},
     "output_type": "execute_result"
    }
   ],
   "source": [
    "np_x_even = np.array(x_even)\n",
    "np_x_even"
   ]
  },
  {
   "cell_type": "code",
   "execution_count": 24,
   "id": "79b56e4c-8e43-44a4-adc2-2ff67a23d4ba",
   "metadata": {},
   "outputs": [],
   "source": [
    "pd_x_even = pd.Series(np_x_even)"
   ]
  },
  {
   "cell_type": "code",
   "execution_count": 25,
   "id": "dc4f0f26-c710-4d92-83c7-9d01bd474604",
   "metadata": {},
   "outputs": [
    {
     "data": {
      "text/plain": [
       "8.0"
      ]
     },
     "execution_count": 25,
     "metadata": {},
     "output_type": "execute_result"
    }
   ],
   "source": [
    "pd_x_even.median()"
   ]
  },
  {
   "cell_type": "code",
   "execution_count": 15,
   "id": "a4d1a249-12ea-4f5c-8d69-75d8c6c3384a",
   "metadata": {},
   "outputs": [
    {
     "data": {
      "text/plain": [
       "array([2, 2, 6, 7, 7, 8, 8, 9, 9, 9])"
      ]
     },
     "execution_count": 15,
     "metadata": {},
     "output_type": "execute_result"
    }
   ],
   "source": [
    "np_x_odd = np.array(x_odd)\n",
    "np_x_odd"
   ]
  },
  {
   "cell_type": "code",
   "execution_count": 16,
   "id": "dd5d168a-98ee-4fed-9890-1fd0bea7431a",
   "metadata": {},
   "outputs": [
    {
     "data": {
      "text/plain": [
       "7.5"
      ]
     },
     "execution_count": 16,
     "metadata": {},
     "output_type": "execute_result"
    }
   ],
   "source": [
    "pd_x_odd = pd.Series(np_x_odd)\n",
    "pd_x_odd.median()"
   ]
  },
  {
   "cell_type": "code",
   "execution_count": 18,
   "id": "e82da9fd-9a8c-422c-992c-e6b60458823c",
   "metadata": {},
   "outputs": [
    {
     "data": {
      "text/plain": [
       "ModeResult(mode=array([9]), count=array([3]))"
      ]
     },
     "execution_count": 18,
     "metadata": {},
     "output_type": "execute_result"
    }
   ],
   "source": [
    "stats.mode(np_x_odd)"
   ]
  },
  {
   "cell_type": "code",
   "execution_count": 19,
   "id": "0dbccb1c-268e-4258-bf03-f0c59060f503",
   "metadata": {},
   "outputs": [
    {
     "data": {
      "text/plain": [
       "array([9])"
      ]
     },
     "execution_count": 19,
     "metadata": {},
     "output_type": "execute_result"
    }
   ],
   "source": [
    "mode = stats.mode(np_x_odd)\n",
    "mode[0]"
   ]
  },
  {
   "cell_type": "code",
   "execution_count": null,
   "id": "d47a8143-3037-42cd-9d62-00ff765104d0",
   "metadata": {},
   "outputs": [],
   "source": []
  }
 ],
 "metadata": {
  "kernelspec": {
   "display_name": "Python 3",
   "language": "python",
   "name": "python3"
  },
  "language_info": {
   "codemirror_mode": {
    "name": "ipython",
    "version": 3
   },
   "file_extension": ".py",
   "mimetype": "text/x-python",
   "name": "python",
   "nbconvert_exporter": "python",
   "pygments_lexer": "ipython3",
   "version": "3.8.8"
  }
 },
 "nbformat": 4,
 "nbformat_minor": 5
}
