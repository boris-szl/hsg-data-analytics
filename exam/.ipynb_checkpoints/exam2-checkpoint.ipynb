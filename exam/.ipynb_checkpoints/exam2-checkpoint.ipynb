{
 "cells": [
  {
   "cell_type": "markdown",
   "id": "999fd920-e59b-42e3-8c65-54c5a4e3f278",
   "metadata": {},
   "source": [
    "# Exam HS20"
   ]
  },
  {
   "cell_type": "markdown",
   "id": "0acc4a11-296f-46fb-b61d-84ff82dcb37e",
   "metadata": {},
   "source": [
    "## Import Modules"
   ]
  },
  {
   "cell_type": "code",
   "execution_count": 3,
   "id": "84cd1fb5-1d61-4470-babc-5c29bf3b83c6",
   "metadata": {},
   "outputs": [],
   "source": [
    "import numpy as np\n",
    "import pandas as pd\n",
    "import statsmodels.api as sm\n",
    "import math\n",
    "import matplotlib.pyplot as plt"
   ]
  },
  {
   "cell_type": "markdown",
   "id": "e8f22732-e2dd-4b92-ab8e-6b85d5fb83e6",
   "metadata": {},
   "source": []
  }
 ],
 "metadata": {
  "kernelspec": {
   "display_name": "Python 3",
   "language": "python",
   "name": "python3"
  },
  "language_info": {
   "codemirror_mode": {
    "name": "ipython",
    "version": 3
   },
   "file_extension": ".py",
   "mimetype": "text/x-python",
   "name": "python",
   "nbconvert_exporter": "python",
   "pygments_lexer": "ipython3",
   "version": "3.8.8"
  }
 },
 "nbformat": 4,
 "nbformat_minor": 5
}
