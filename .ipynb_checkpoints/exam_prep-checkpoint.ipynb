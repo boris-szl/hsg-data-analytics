{
 "cells": [
  {
   "cell_type": "code",
   "execution_count": 11,
   "id": "8a4e93bb-b02c-4454-8e21-9b784648631f",
   "metadata": {},
   "outputs": [],
   "source": [
    "import pandas as pd\n",
    "import numpy as np\n",
    "import matplotlib.pyplot as plt\n",
    "import math"
   ]
  },
  {
   "cell_type": "code",
   "execution_count": 24,
   "id": "8b720d95-b615-43c7-8bd2-567e75795642",
   "metadata": {},
   "outputs": [],
   "source": [
    "def binomial(n,k):\n",
    "    assert(n >= k)\n",
    "    if (n == 1 or n == 0):\n",
    "        return 1\n",
    "    else:\n",
    "        return math.factorial(n)/(math.factorial(k)*math.factorial(n-k))"
   ]
  },
  {
   "cell_type": "code",
   "execution_count": 31,
   "id": "1a1ae757-caa0-4349-8778-b3e009bd993f",
   "metadata": {},
   "outputs": [
    {
     "data": {
      "text/plain": [
       "10626.0"
      ]
     },
     "execution_count": 31,
     "metadata": {},
     "output_type": "execute_result"
    }
   ],
   "source": [
    "# testing the function\n",
    "#triviale fälle\n",
    "binomial(1,1) # d/o = 1\n",
    "binomial(0,0) # d/o = 1\n",
    "binomial(12,4) # desired output == 495\n",
    "binomial(24,4) # desired output == 10626"
   ]
  },
  {
   "cell_type": "code",
   "execution_count": 38,
   "id": "b5edbd29-dfa2-4e18-9225-12be614c48ee",
   "metadata": {},
   "outputs": [],
   "source": [
    "def binomialverteilung(n,k,pi):\n",
    "    assert(0 <= pi <= 1)\n",
    "    binm = binomial(n,k)\n",
    "    return binm*pi**k*(1-pi)**(n-k)"
   ]
  },
  {
   "cell_type": "markdown",
   "id": "b2e51f04-2a46-40bb-b742-7dbd79a895be",
   "metadata": {},
   "source": [
    "<b>Beispiel Binomialverteilung</b>\n",
    "<br><ul>\n",
    "    <li>$\\pi$ = $0.3$</li>\n",
    "    <li>$n$ = $3$, $n$ $\\in$ $N$</li>\n",
    "    <li>$x$ $\\in$ $X$, $X$ $:=$ $Anzahl\\,der\\,guenstigen\\,Ereignisse$ "
   ]
  },
  {
   "cell_type": "code",
   "execution_count": 81,
   "id": "8d0614cf-842f-449b-b43e-bbb25d5c6640",
   "metadata": {},
   "outputs": [
    {
     "data": {
      "text/plain": [
       "[1.0, 0.0, 0.0, 0.0]"
      ]
     },
     "execution_count": 81,
     "metadata": {},
     "output_type": "execute_result"
    }
   ],
   "source": [
    "# let x be vector as x = (0,1,2,3)\n",
    "# run loop for each x_i in x\n",
    "x_vector = [0,1,2,3]\n",
    "p_x = []\n",
    "for x in range(len(x_vector)):\n",
    "    p_x_i = binomialverteilung(3,x,0)\n",
    "    p_x.append(p_x_i)\n",
    "p_x"
   ]
  },
  {
   "cell_type": "code",
   "execution_count": 82,
   "id": "567ef256-7003-44fa-9db8-761ad658f717",
   "metadata": {},
   "outputs": [
    {
     "data": {
      "text/plain": [
       "0    1.0\n",
       "1    0.0\n",
       "2    0.0\n",
       "3    0.0\n",
       "dtype: float64"
      ]
     },
     "execution_count": 82,
     "metadata": {},
     "output_type": "execute_result"
    }
   ],
   "source": [
    "p_von_X = pd.Series(p_x)\n",
    "p_von_X"
   ]
  },
  {
   "cell_type": "code",
   "execution_count": 83,
   "id": "833da210-755b-4bcd-b447-90807b13c6e8",
   "metadata": {},
   "outputs": [
    {
     "data": {
      "image/png": "[encoded data removed]",
      "text/plain": [
       "<Figure size 432x288 with 1 Axes>"
      ]
     },
     "metadata": {
      "needs_background": "light"
     },
     "output_type": "display_data"
    }
   ],
   "source": [
    "plt.scatter(x_vector,p_von_X, c=\"purple\")\n",
    "plt.title(\"diskrete Binomialverteilung\")\n",
    "plt.grid(\"True\")\n",
    "plt.xlabel(\"Anzahl der Stichprobe aus 3 unabhängigen Wiederholungen\")\n",
    "plt.ylabel(\"Wahrscheinlichkeitsmasse\")\n",
    "plt.show()"
   ]
  },
  {
   "cell_type": "markdown",
   "id": "20f05ca5-351e-476e-8e49-205dba2597ba",
   "metadata": {},
   "source": [
    "## Hypergeometrische Verteilung"
   ]
  },
  {
   "cell_type": "markdown",
   "id": "fec85db5-3254-4b07-8b61-c3410d827558",
   "metadata": {},
   "source": [
    "$P(X=x)$ $:=$ $\\frac{s\\choose x}\\,{N \\choose n}$"
   ]
  },
  {
   "cell_type": "code",
   "execution_count": null,
   "id": "1237f8d7-3ee8-4aa3-97bb-262d261d8207",
   "metadata": {},
   "outputs": [],
   "source": []
  }
 ],
 "metadata": {
  "kernelspec": {
   "display_name": "Python 3",
   "language": "python",
   "name": "python3"
  },
  "language_info": {
   "codemirror_mode": {
    "name": "ipython",
    "version": 3
   },
   "file_extension": ".py",
   "mimetype": "text/x-python",
   "name": "python",
   "nbconvert_exporter": "python",
   "pygments_lexer": "ipython3",
   "version": "3.8.8"
  }
 },
 "nbformat": 4,
 "nbformat_minor": 5
}
